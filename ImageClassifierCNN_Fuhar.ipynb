{
  "nbformat": 4,
  "nbformat_minor": 0,
  "metadata": {
    "colab": {
      "provenance": [],
      "authorship_tag": "ABX9TyNDw+1MZuHsg2o0IBcOt4DT",
      "include_colab_link": true
    },
    "kernelspec": {
      "name": "python3",
      "display_name": "Python 3"
    },
    "language_info": {
      "name": "python"
    }
  },
  "cells": [
    {
      "cell_type": "markdown",
      "metadata": {
        "id": "view-in-github",
        "colab_type": "text"
      },
      "source": [
        "<a href=\"https://colab.research.google.com/github/FUHAR-GARG/Image_Classifier_Fuhar/blob/main/ImageClassifierCNN_Fuhar.ipynb\" target=\"_parent\"><img src=\"https://colab.research.google.com/assets/colab-badge.svg\" alt=\"Open In Colab\"/></a>"
      ]
    },
    {
      "cell_type": "code",
      "execution_count": 1,
      "metadata": {
        "id": "zCjfPIkkvG4Q"
      },
      "outputs": [],
      "source": [
        "import tensorflow as tf\n",
        "from tensorflow.keras import datasets, layers, models\n",
        "import matplotlib.pyplot as plt\n",
        "import numpy as np"
      ]
    },
    {
      "cell_type": "markdown",
      "source": [
        "***Load dataset***"
      ],
      "metadata": {
        "id": "v9Dad6vC4STi"
      }
    },
    {
      "cell_type": "code",
      "source": [
        "(X_train, y_train), (X_test,y_test) = datasets.cifar10.load_data()\n",
        "X_train.shape"
      ],
      "metadata": {
        "colab": {
          "base_uri": "https://localhost:8080/"
        },
        "id": "6mQmRRYMvM86",
        "outputId": "3bb1eb03-2fd0-4f4c-cb19-80780a1f7ae5"
      },
      "execution_count": 2,
      "outputs": [
        {
          "output_type": "stream",
          "name": "stdout",
          "text": [
            "Downloading data from https://www.cs.toronto.edu/~kriz/cifar-10-python.tar.gz\n",
            "170498071/170498071 [==============================] - 4s 0us/step\n"
          ]
        },
        {
          "output_type": "execute_result",
          "data": {
            "text/plain": [
              "(50000, 32, 32, 3)"
            ]
          },
          "metadata": {},
          "execution_count": 2
        }
      ]
    },
    {
      "cell_type": "code",
      "source": [
        "X_test.shape\n"
      ],
      "metadata": {
        "colab": {
          "base_uri": "https://localhost:8080/"
        },
        "id": "T73vwh9VvcGJ",
        "outputId": "e41fbd17-d4db-4f73-aaf8-d5a9e76a694e"
      },
      "execution_count": 3,
      "outputs": [
        {
          "output_type": "execute_result",
          "data": {
            "text/plain": [
              "(10000, 32, 32, 3)"
            ]
          },
          "metadata": {},
          "execution_count": 3
        }
      ]
    },
    {
      "cell_type": "code",
      "source": [
        "y_train.shape"
      ],
      "metadata": {
        "colab": {
          "base_uri": "https://localhost:8080/"
        },
        "id": "2OP9elWhvjmN",
        "outputId": "c61715cb-f3d7-49e8-ad12-a98a3f7dc409"
      },
      "execution_count": 4,
      "outputs": [
        {
          "output_type": "execute_result",
          "data": {
            "text/plain": [
              "(50000, 1)"
            ]
          },
          "metadata": {},
          "execution_count": 4
        }
      ]
    },
    {
      "cell_type": "code",
      "source": [
        "y_train = y_train.reshape(-1,)\n",
        "y_train[:5]"
      ],
      "metadata": {
        "colab": {
          "base_uri": "https://localhost:8080/"
        },
        "id": "B1v_icf5vlHD",
        "outputId": "cfe43403-4acc-4d31-e5c3-31a3605ae7ed"
      },
      "execution_count": 5,
      "outputs": [
        {
          "output_type": "execute_result",
          "data": {
            "text/plain": [
              "array([6, 9, 9, 4, 1], dtype=uint8)"
            ]
          },
          "metadata": {},
          "execution_count": 5
        }
      ]
    },
    {
      "cell_type": "code",
      "source": [
        "y_test = y_test.reshape(-1,)"
      ],
      "metadata": {
        "id": "Iqs7oOX2vo0B"
      },
      "execution_count": 6,
      "outputs": []
    },
    {
      "cell_type": "code",
      "source": [
        "classes = [\"airplane\",\"automobile\",\"bird\",\"cat\",\"deer\",\"dog\",\"frog\",\"horse\",\"ship\",\"truck\"]"
      ],
      "metadata": {
        "id": "Fn5HDsOevtfo"
      },
      "execution_count": 7,
      "outputs": []
    },
    {
      "cell_type": "code",
      "source": [
        "def plot_sample(X, y, index):\n",
        "    plt.figure(figsize = (15,2))\n",
        "    plt.imshow(X[index])\n",
        "    plt.xlabel(classes[y[index]])"
      ],
      "metadata": {
        "id": "53Rvvws5vzr8"
      },
      "execution_count": 8,
      "outputs": []
    },
    {
      "cell_type": "code",
      "source": [
        "plot_sample(X_train, y_train, 1)\n"
      ],
      "metadata": {
        "colab": {
          "base_uri": "https://localhost:8080/",
          "height": 237
        },
        "id": "xZYFifHFwL28",
        "outputId": "9590a306-c726-496a-d36a-042fab10bc60"
      },
      "execution_count": 11,
      "outputs": [
        {
          "output_type": "display_data",
          "data": {
            "text/plain": [
              "<Figure size 1500x200 with 1 Axes>"
            ],
            "image/png": "[encoded data removed]"
          },
          "metadata": {}
        }
      ]
    },
    {
      "cell_type": "code",
      "source": [
        "plot_sample(X_train, y_train, 1000)\n"
      ],
      "metadata": {
        "colab": {
          "base_uri": "https://localhost:8080/",
          "height": 237
        },
        "id": "0n5QD-_0wVxj",
        "outputId": "845500b7-ee9e-4663-eb85-55ab10814f15"
      },
      "execution_count": 12,
      "outputs": [
        {
          "output_type": "display_data",
          "data": {
            "text/plain": [
              "<Figure size 1500x200 with 1 Axes>"
            ],
            "image/png": "[encoded data removed]"
          },
          "metadata": {}
        }
      ]
    },
    {
      "cell_type": "code",
      "source": [
        "plot_sample(X_train, y_train, 90)\n"
      ],
      "metadata": {
        "colab": {
          "base_uri": "https://localhost:8080/",
          "height": 237
        },
        "id": "fxKkdi_iwPw5",
        "outputId": "f08a559d-f189-404d-f37a-3749e4eccefb"
      },
      "execution_count": 10,
      "outputs": [
        {
          "output_type": "display_data",
          "data": {
            "text/plain": [
              "<Figure size 1500x200 with 1 Axes>"
            ],
            "image/png": "[encoded data removed]"
          },
          "metadata": {}
        }
      ]
    },
    {
      "cell_type": "markdown",
      "source": [
        "***Normalizing training data***"
      ],
      "metadata": {
        "id": "OC3CjRuv4eCk"
      }
    },
    {
      "cell_type": "code",
      "source": [
        "X_train = X_train / 255.0\n",
        "X_test = X_test / 255.0"
      ],
      "metadata": {
        "id": "4E1xQ3MwwaUv"
      },
      "execution_count": 13,
      "outputs": []
    },
    {
      "cell_type": "markdown",
      "source": [
        "***Building simple artificial neural network for image classification***"
      ],
      "metadata": {
        "id": "Ur67W4kR4otz"
      }
    },
    {
      "cell_type": "code",
      "source": [
        "ann = models.Sequential([\n",
        "        layers.Flatten(input_shape=(32,32,3)),\n",
        "        layers.Dense(3000, activation='relu'),\n",
        "        layers.Dense(1000, activation='relu'),\n",
        "        layers.Dense(10, activation='softmax')\n",
        "    ])\n",
        "\n",
        "ann.compile(optimizer='SGD',\n",
        "              loss='sparse_categorical_crossentropy',\n",
        "              metrics=['accuracy'])\n",
        "\n",
        "ann.fit(X_train, y_train, epochs=6)"
      ],
      "metadata": {
        "colab": {
          "base_uri": "https://localhost:8080/"
        },
        "id": "k1Q4gMSGwfsf",
        "outputId": "dc93d04c-e432-44af-83de-6ba1075d1f41"
      },
      "execution_count": 14,
      "outputs": [
        {
          "output_type": "stream",
          "name": "stdout",
          "text": [
            "Epoch 1/6\n",
            "1563/1563 [==============================] - 150s 94ms/step - loss: 1.8110 - accuracy: 0.3516\n",
            "Epoch 2/6\n",
            "1563/1563 [==============================] - 168s 108ms/step - loss: 1.6249 - accuracy: 0.4266\n",
            "Epoch 3/6\n",
            "1563/1563 [==============================] - 151s 97ms/step - loss: 1.5417 - accuracy: 0.4570\n",
            "Epoch 4/6\n",
            "1563/1563 [==============================] - 142s 91ms/step - loss: 1.4811 - accuracy: 0.4775\n",
            "Epoch 5/6\n",
            "1563/1563 [==============================] - 139s 89ms/step - loss: 1.4324 - accuracy: 0.4965\n",
            "Epoch 6/6\n",
            "1563/1563 [==============================] - 140s 89ms/step - loss: 1.3916 - accuracy: 0.5123\n"
          ]
        },
        {
          "output_type": "execute_result",
          "data": {
            "text/plain": [
              "<keras.src.callbacks.History at 0x7d77cbe73100>"
            ]
          },
          "metadata": {},
          "execution_count": 14
        }
      ]
    },
    {
      "cell_type": "markdown",
      "source": [
        "*accuracy is  around 52%*"
      ],
      "metadata": {
        "id": "nuoPJSmC42b1"
      }
    },
    {
      "cell_type": "code",
      "source": [
        "from sklearn.metrics import confusion_matrix , classification_report\n",
        "import numpy as np\n",
        "y_pred = ann.predict(X_test)\n",
        "y_pred_classes = [np.argmax(element) for element in y_pred]\n",
        "\n",
        "print(\"Classification Report: \\n\", classification_report(y_test, y_pred_classes))"
      ],
      "metadata": {
        "colab": {
          "base_uri": "https://localhost:8080/"
        },
        "id": "ce19Z0vbwfvf",
        "outputId": "d80e4ceb-f24b-40c1-9b26-f19cff1d7922"
      },
      "execution_count": 15,
      "outputs": [
        {
          "output_type": "stream",
          "name": "stdout",
          "text": [
            "313/313 [==============================] - 14s 44ms/step\n",
            "Classification Report: \n",
            "               precision    recall  f1-score   support\n",
            "\n",
            "           0       0.66      0.47      0.55      1000\n",
            "           1       0.73      0.45      0.55      1000\n",
            "           2       0.49      0.24      0.33      1000\n",
            "           3       0.31      0.49      0.38      1000\n",
            "           4       0.49      0.36      0.41      1000\n",
            "           5       0.35      0.40      0.37      1000\n",
            "           6       0.54      0.56      0.55      1000\n",
            "           7       0.58      0.54      0.56      1000\n",
            "           8       0.62      0.63      0.63      1000\n",
            "           9       0.43      0.74      0.55      1000\n",
            "\n",
            "    accuracy                           0.49     10000\n",
            "   macro avg       0.52      0.49      0.49     10000\n",
            "weighted avg       0.52      0.49      0.49     10000\n",
            "\n"
          ]
        }
      ]
    },
    {
      "cell_type": "markdown",
      "source": [
        "***Building a convolutional neural network to train our images***"
      ],
      "metadata": {
        "id": "x4rpCSkS5HUs"
      }
    },
    {
      "cell_type": "code",
      "source": [
        "cnn = models.Sequential([\n",
        "    layers.Conv2D(filters=32, kernel_size=(3, 3), activation='relu', input_shape=(32, 32, 3)),\n",
        "    layers.MaxPooling2D((2, 2)),\n",
        "\n",
        "    layers.Conv2D(filters=64, kernel_size=(3, 3), activation='relu'),\n",
        "    layers.MaxPooling2D((2, 2)),\n",
        "\n",
        "    layers.Flatten(),\n",
        "    layers.Dense(64, activation='relu'),\n",
        "    layers.Dense(10, activation='softmax')\n",
        "])"
      ],
      "metadata": {
        "id": "PSF6NKrQxad_"
      },
      "execution_count": 16,
      "outputs": []
    },
    {
      "cell_type": "code",
      "source": [
        "cnn.compile(optimizer='adam',\n",
        "              loss='sparse_categorical_crossentropy',\n",
        "              metrics=['accuracy'])"
      ],
      "metadata": {
        "id": "RivtR2cyxeaT"
      },
      "execution_count": 17,
      "outputs": []
    },
    {
      "cell_type": "code",
      "source": [
        "cnn.fit(X_train, y_train, epochs=10)"
      ],
      "metadata": {
        "colab": {
          "base_uri": "https://localhost:8080/"
        },
        "id": "FLF-UIHQxhE-",
        "outputId": "30b865e9-73f6-4780-c009-2cfb7b2462f6"
      },
      "execution_count": 18,
      "outputs": [
        {
          "output_type": "stream",
          "name": "stdout",
          "text": [
            "Epoch 1/10\n",
            "1563/1563 [==============================] - 63s 40ms/step - loss: 1.4604 - accuracy: 0.4745\n",
            "Epoch 2/10\n",
            "1563/1563 [==============================] - 63s 41ms/step - loss: 1.1095 - accuracy: 0.6109\n",
            "Epoch 3/10\n",
            "1563/1563 [==============================] - 60s 39ms/step - loss: 0.9758 - accuracy: 0.6583\n",
            "Epoch 4/10\n",
            "1563/1563 [==============================] - 61s 39ms/step - loss: 0.8872 - accuracy: 0.6892\n",
            "Epoch 5/10\n",
            "1563/1563 [==============================] - 61s 39ms/step - loss: 0.8128 - accuracy: 0.7169\n",
            "Epoch 6/10\n",
            "1563/1563 [==============================] - 59s 38ms/step - loss: 0.7569 - accuracy: 0.7353\n",
            "Epoch 7/10\n",
            "1563/1563 [==============================] - 61s 39ms/step - loss: 0.7041 - accuracy: 0.7515\n",
            "Epoch 8/10\n",
            "1563/1563 [==============================] - 61s 39ms/step - loss: 0.6584 - accuracy: 0.7709\n",
            "Epoch 9/10\n",
            "1563/1563 [==============================] - 59s 38ms/step - loss: 0.6205 - accuracy: 0.7821\n",
            "Epoch 10/10\n",
            "1563/1563 [==============================] - 63s 40ms/step - loss: 0.5819 - accuracy: 0.7950\n"
          ]
        },
        {
          "output_type": "execute_result",
          "data": {
            "text/plain": [
              "<keras.src.callbacks.History at 0x7d77d2206f20>"
            ]
          },
          "metadata": {},
          "execution_count": 18
        }
      ]
    },
    {
      "cell_type": "markdown",
      "source": [
        "With CNN, at the end 6 epochs, accuracy was at around 80% which is a significant improvement over ANN. CNN's are best for image classification and gives superb accuracy. Also computation is much less compared to simple ANN as maxpooling reduces the image dimensions while still preserving the features\n",
        "\n",
        "\n"
      ],
      "metadata": {
        "id": "z0c1nmdY5XWv"
      }
    },
    {
      "cell_type": "code",
      "source": [
        "cnn.evaluate(X_test,y_test)"
      ],
      "metadata": {
        "colab": {
          "base_uri": "https://localhost:8080/"
        },
        "id": "OqKJFdnpxjiH",
        "outputId": "067c3d7c-48ca-453f-d441-5cadbcac345f"
      },
      "execution_count": 19,
      "outputs": [
        {
          "output_type": "stream",
          "name": "stdout",
          "text": [
            "313/313 [==============================] - 5s 15ms/step - loss: 0.9225 - accuracy: 0.6982\n"
          ]
        },
        {
          "output_type": "execute_result",
          "data": {
            "text/plain": [
              "[0.92254638671875, 0.698199987411499]"
            ]
          },
          "metadata": {},
          "execution_count": 19
        }
      ]
    },
    {
      "cell_type": "code",
      "source": [
        "y_pred = cnn.predict(X_test)\n",
        "y_pred[:5]"
      ],
      "metadata": {
        "colab": {
          "base_uri": "https://localhost:8080/"
        },
        "id": "J8D9zj2SxoFg",
        "outputId": "f6af71c9-a595-4653-87e0-914cd66bbdfa"
      },
      "execution_count": 20,
      "outputs": [
        {
          "output_type": "stream",
          "name": "stdout",
          "text": [
            "313/313 [==============================] - 4s 11ms/step\n"
          ]
        },
        {
          "output_type": "execute_result",
          "data": {
            "text/plain": [
              "array([[5.35403704e-03, 1.42453064e-04, 5.88048389e-03, 8.12054098e-01,\n",
              "        6.76845317e-04, 1.08700030e-01, 2.49081217e-02, 1.64969731e-03,\n",
              "        4.05377634e-02, 9.64551364e-05],\n",
              "       [2.10734812e-04, 9.99045675e-04, 6.97116150e-07, 2.82226740e-08,\n",
              "        1.67528995e-07, 8.99248565e-10, 4.08784551e-12, 1.47822435e-10,\n",
              "        9.98433828e-01, 3.55579919e-04],\n",
              "       [4.00976185e-03, 4.28277105e-01, 8.00159352e-04, 4.75713285e-03,\n",
              "        5.08715806e-04, 5.88816474e-04, 7.01411409e-06, 5.81462809e-04,\n",
              "        5.43395102e-01, 1.70746874e-02],\n",
              "       [7.87098289e-01, 3.12909484e-02, 1.12600317e-02, 6.28493959e-04,\n",
              "        1.65975206e-02, 1.15147213e-06, 1.72305990e-05, 1.92783831e-04,\n",
              "        1.52798086e-01, 1.15449046e-04],\n",
              "       [1.04082492e-05, 3.82839653e-06, 2.63556391e-02, 5.89190517e-03,\n",
              "        9.05503392e-01, 1.74615672e-03, 6.04591295e-02, 7.25790824e-06,\n",
              "        2.23266343e-05, 5.39342331e-08]], dtype=float32)"
            ]
          },
          "metadata": {},
          "execution_count": 20
        }
      ]
    },
    {
      "cell_type": "code",
      "source": [
        "y_classes = [np.argmax(element) for element in y_pred]\n",
        "y_classes[:5]"
      ],
      "metadata": {
        "colab": {
          "base_uri": "https://localhost:8080/"
        },
        "id": "bcBgsLKOxo4W",
        "outputId": "805789ad-a303-4dee-8640-5ddb69f0a89d"
      },
      "execution_count": 21,
      "outputs": [
        {
          "output_type": "execute_result",
          "data": {
            "text/plain": [
              "[3, 8, 8, 0, 4]"
            ]
          },
          "metadata": {},
          "execution_count": 21
        }
      ]
    },
    {
      "cell_type": "code",
      "source": [
        "y_test[:5]"
      ],
      "metadata": {
        "colab": {
          "base_uri": "https://localhost:8080/"
        },
        "id": "jgHetRhwxr4y",
        "outputId": "14c762a7-b51c-42d4-8819-324dc64d7b02"
      },
      "execution_count": 22,
      "outputs": [
        {
          "output_type": "execute_result",
          "data": {
            "text/plain": [
              "array([3, 8, 8, 0, 6], dtype=uint8)"
            ]
          },
          "metadata": {},
          "execution_count": 22
        }
      ]
    },
    {
      "cell_type": "code",
      "source": [
        "plot_sample(X_test, y_test,300)"
      ],
      "metadata": {
        "colab": {
          "base_uri": "https://localhost:8080/",
          "height": 237
        },
        "id": "W3-r-_AsxuY0",
        "outputId": "ddc4b1d8-bcf6-4c04-8f90-3d23cdd5cc49"
      },
      "execution_count": 23,
      "outputs": [
        {
          "output_type": "display_data",
          "data": {
            "text/plain": [
              "<Figure size 1500x200 with 1 Axes>"
            ],
            "image/png": "[encoded data removed]"
          },
          "metadata": {}
        }
      ]
    },
    {
      "cell_type": "code",
      "source": [
        "classes[y_classes[300]]"
      ],
      "metadata": {
        "colab": {
          "base_uri": "https://localhost:8080/",
          "height": 35
        },
        "id": "j9VnmM4Ox3Rf",
        "outputId": "4e30c2ad-4c12-4695-9488-2830ce1668eb"
      },
      "execution_count": 24,
      "outputs": [
        {
          "output_type": "execute_result",
          "data": {
            "text/plain": [
              "'frog'"
            ],
            "application/vnd.google.colaboratory.intrinsic+json": {
              "type": "string"
            }
          },
          "metadata": {},
          "execution_count": 24
        }
      ]
    },
    {
      "cell_type": "code",
      "source": [
        "plot_sample(X_test, y_test,2003)"
      ],
      "metadata": {
        "colab": {
          "base_uri": "https://localhost:8080/",
          "height": 237
        },
        "id": "QDP15YGAx6fw",
        "outputId": "97c07974-1840-4cfd-e344-85bc68c71a26"
      },
      "execution_count": 28,
      "outputs": [
        {
          "output_type": "display_data",
          "data": {
            "text/plain": [
              "<Figure size 1500x200 with 1 Axes>"
            ],
            "image/png": "[encoded data removed]"
          },
          "metadata": {}
        }
      ]
    },
    {
      "cell_type": "code",
      "source": [
        "classes[y_classes[2003]]"
      ],
      "metadata": {
        "colab": {
          "base_uri": "https://localhost:8080/",
          "height": 35
        },
        "id": "YejqTeDG51ZE",
        "outputId": "49f94ba9-0c9e-4b45-e37f-3e3766e6071c"
      },
      "execution_count": 30,
      "outputs": [
        {
          "output_type": "execute_result",
          "data": {
            "text/plain": [
              "'dog'"
            ],
            "application/vnd.google.colaboratory.intrinsic+json": {
              "type": "string"
            }
          },
          "metadata": {},
          "execution_count": 30
        }
      ]
    }
  ]
}